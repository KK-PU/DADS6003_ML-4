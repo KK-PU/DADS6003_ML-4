{
  "nbformat": 4,
  "nbformat_minor": 0,
  "metadata": {
    "colab": {
      "provenance": []
    },
    "kernelspec": {
      "name": "python3",
      "display_name": "Python 3"
    }
  },
  "cells": [
    {
      "cell_type": "markdown",
      "source": [
        "# **Logistic Regression**"
      ],
      "metadata": {
        "id": "KNDfKskqWzFW"
      }
    },
    {
      "cell_type": "markdown",
      "source": [
        "<a href=\"https://colab.research.google.com/drive/1QRBnZAm2XXmpBqHD-nOKvrXs9GZxWUSA#scrollTo=XJGshRge0ylO\" target=\"_parent\"><img src=\"https://colab.research.google.com/assets/colab-badge.svg\" alt=\"Open In Colab\"/></a>"
      ],
      "metadata": {
        "id": "XJGshRge0ylO"
      }
    },
    {
      "cell_type": "markdown",
      "source": [
        "ลองทดลองเพิ่ม จาก link ตัวอย่าง\n",
        "https://blog.quantinsti.com/machine-learning-logistic-regression-python/"
      ],
      "metadata": {
        "id": "5h5ngTacMiYc"
      }
    },
    {
      "cell_type": "code",
      "source": [
        "!pip install ta\n",
        "!pip install pandas_ta"
      ],
      "metadata": {
        "id": "0zf7-lEdNqYG",
        "colab": {
          "base_uri": "https://localhost:8080/"
        },
        "outputId": "244b92f0-106b-4fda-a731-9551e07e930a"
      },
      "execution_count": null,
      "outputs": [
        {
          "output_type": "stream",
          "name": "stdout",
          "text": [
            "Requirement already satisfied: ta in /usr/local/lib/python3.10/dist-packages (0.10.2)\n",
            "Requirement already satisfied: numpy in /usr/local/lib/python3.10/dist-packages (from ta) (1.23.5)\n",
            "Requirement already satisfied: pandas in /usr/local/lib/python3.10/dist-packages (from ta) (1.5.3)\n",
            "Requirement already satisfied: python-dateutil>=2.8.1 in /usr/local/lib/python3.10/dist-packages (from pandas->ta) (2.8.2)\n",
            "Requirement already satisfied: pytz>=2020.1 in /usr/local/lib/python3.10/dist-packages (from pandas->ta) (2023.3.post1)\n",
            "Requirement already satisfied: six>=1.5 in /usr/local/lib/python3.10/dist-packages (from python-dateutil>=2.8.1->pandas->ta) (1.16.0)\n",
            "Requirement already satisfied: pandas_ta in /usr/local/lib/python3.10/dist-packages (0.3.14b0)\n",
            "Requirement already satisfied: pandas in /usr/local/lib/python3.10/dist-packages (from pandas_ta) (1.5.3)\n",
            "Requirement already satisfied: python-dateutil>=2.8.1 in /usr/local/lib/python3.10/dist-packages (from pandas->pandas_ta) (2.8.2)\n",
            "Requirement already satisfied: pytz>=2020.1 in /usr/local/lib/python3.10/dist-packages (from pandas->pandas_ta) (2023.3.post1)\n",
            "Requirement already satisfied: numpy>=1.21.0 in /usr/local/lib/python3.10/dist-packages (from pandas->pandas_ta) (1.23.5)\n",
            "Requirement already satisfied: six>=1.5 in /usr/local/lib/python3.10/dist-packages (from python-dateutil>=2.8.1->pandas->pandas_ta) (1.16.0)\n"
          ]
        }
      ]
    },
    {
      "cell_type": "markdown",
      "source": [
        "**Import The Libraries**"
      ],
      "metadata": {
        "id": "8yzydh8oq28Z"
      }
    },
    {
      "cell_type": "code",
      "source": [
        "# Import library\n",
        "import ta\n",
        "import numpy as np\n",
        "import pandas as pd\n",
        "import matplotlib.pyplot as plt\n",
        "import pandas_ta as ta\n",
        "\n",
        "# Plotting graphs\n",
        "import matplotlib.pyplot as plt\n",
        "\n",
        "# Machine learning\n",
        "from sklearn.linear_model import LogisticRegression\n",
        "from sklearn import metrics\n",
        "from sklearn.model_selection import cross_val_score\n",
        "\n",
        "# Data fetching\n",
        "from pandas_datareader import data as pdr\n",
        "import yfinance as yf\n",
        "yf.pdr_override()"
      ],
      "metadata": {
        "id": "UeXufjN5MfaI"
      },
      "execution_count": null,
      "outputs": []
    },
    {
      "cell_type": "markdown",
      "source": [
        "**Import The Data**\n",
        "\n",
        "Nifty >> from 2010 to 2023.\n",
        "\n",
        "Let us print the top five rows of column ‘Open’, ‘High’, ‘Low’, ‘Close’."
      ],
      "metadata": {
        "id": "OWQyzLKlPDnc"
      }
    },
    {
      "cell_type": "code",
      "source": [
        "#Import Data Test Nifty >> from 2010 to 2023\n",
        "df = pdr.get_data_yahoo('^NSEI', '2010-01-01', '2023-01-01')\n",
        "df = df.dropna()\n",
        "df = df.iloc[:,:4]\n",
        "df.head()"
      ],
      "metadata": {
        "id": "_rgLPqD_O1zD",
        "colab": {
          "base_uri": "https://localhost:8080/",
          "height": 255
        },
        "outputId": "dd10a4cf-9e45-4d93-f85d-0a9ced040cb7"
      },
      "execution_count": null,
      "outputs": [
        {
          "output_type": "stream",
          "name": "stdout",
          "text": [
            "\r[*********************100%%**********************]  1 of 1 completed\n"
          ]
        },
        {
          "output_type": "execute_result",
          "data": {
            "text/plain": [
              "                   Open         High          Low        Close\n",
              "Date                                                          \n",
              "2010-01-04  5200.899902  5238.450195  5167.100098  5232.200195\n",
              "2010-01-05  5277.149902  5288.350098  5242.399902  5277.899902\n",
              "2010-01-06  5278.149902  5310.850098  5260.049805  5281.799805\n",
              "2010-01-07  5281.799805  5302.549805  5244.750000  5263.100098\n",
              "2010-01-08  5264.250000  5276.750000  5234.700195  5244.750000"
            ],
            "text/html": [
              "\n",
              "  <div id=\"df-ceb47222-d4a7-423f-b43e-2b6bd878e51d\" class=\"colab-df-container\">\n",
              "    <div>\n",
              "<style scoped>\n",
              "    .dataframe tbody tr th:only-of-type {\n",
              "        vertical-align: middle;\n",
              "    }\n",
              "\n",
              "    .dataframe tbody tr th {\n",
              "        vertical-align: top;\n",
              "    }\n",
              "\n",
              "    .dataframe thead th {\n",
              "        text-align: right;\n",
              "    }\n",
              "</style>\n",
              "<table border=\"1\" class=\"dataframe\">\n",
              "  <thead>\n",
              "    <tr style=\"text-align: right;\">\n",
              "      <th></th>\n",
              "      <th>Open</th>\n",
              "      <th>High</th>\n",
              "      <th>Low</th>\n",
              "      <th>Close</th>\n",
              "    </tr>\n",
              "    <tr>\n",
              "      <th>Date</th>\n",
              "      <th></th>\n",
              "      <th></th>\n",
              "      <th></th>\n",
              "      <th></th>\n",
              "    </tr>\n",
              "  </thead>\n",
              "  <tbody>\n",
              "    <tr>\n",
              "      <th>2010-01-04</th>\n",
              "      <td>5200.899902</td>\n",
              "      <td>5238.450195</td>\n",
              "      <td>5167.100098</td>\n",
              "      <td>5232.200195</td>\n",
              "    </tr>\n",
              "    <tr>\n",
              "      <th>2010-01-05</th>\n",
              "      <td>5277.149902</td>\n",
              "      <td>5288.350098</td>\n",
              "      <td>5242.399902</td>\n",
              "      <td>5277.899902</td>\n",
              "    </tr>\n",
              "    <tr>\n",
              "      <th>2010-01-06</th>\n",
              "      <td>5278.149902</td>\n",
              "      <td>5310.850098</td>\n",
              "      <td>5260.049805</td>\n",
              "      <td>5281.799805</td>\n",
              "    </tr>\n",
              "    <tr>\n",
              "      <th>2010-01-07</th>\n",
              "      <td>5281.799805</td>\n",
              "      <td>5302.549805</td>\n",
              "      <td>5244.750000</td>\n",
              "      <td>5263.100098</td>\n",
              "    </tr>\n",
              "    <tr>\n",
              "      <th>2010-01-08</th>\n",
              "      <td>5264.250000</td>\n",
              "      <td>5276.750000</td>\n",
              "      <td>5234.700195</td>\n",
              "      <td>5244.750000</td>\n",
              "    </tr>\n",
              "  </tbody>\n",
              "</table>\n",
              "</div>\n",
              "    <div class=\"colab-df-buttons\">\n",
              "\n",
              "  <div class=\"colab-df-container\">\n",
              "    <button class=\"colab-df-convert\" onclick=\"convertToInteractive('df-ceb47222-d4a7-423f-b43e-2b6bd878e51d')\"\n",
              "            title=\"Convert this dataframe to an interactive table.\"\n",
              "            style=\"display:none;\">\n",
              "\n",
              "  <svg xmlns=\"http://www.w3.org/2000/svg\" height=\"24px\" viewBox=\"0 -960 960 960\">\n",
              "    <path d=\"M120-120v-720h720v720H120Zm60-500h600v-160H180v160Zm220 220h160v-160H400v160Zm0 220h160v-160H400v160ZM180-400h160v-160H180v160Zm440 0h160v-160H620v160ZM180-180h160v-160H180v160Zm440 0h160v-160H620v160Z\"/>\n",
              "  </svg>\n",
              "    </button>\n",
              "\n",
              "  <style>\n",
              "    .colab-df-container {\n",
              "      display:flex;\n",
              "      gap: 12px;\n",
              "    }\n",
              "\n",
              "    .colab-df-convert {\n",
              "      background-color: #E8F0FE;\n",
              "      border: none;\n",
              "      border-radius: 50%;\n",
              "      cursor: pointer;\n",
              "      display: none;\n",
              "      fill: #1967D2;\n",
              "      height: 32px;\n",
              "      padding: 0 0 0 0;\n",
              "      width: 32px;\n",
              "    }\n",
              "\n",
              "    .colab-df-convert:hover {\n",
              "      background-color: #E2EBFA;\n",
              "      box-shadow: 0px 1px 2px rgba(60, 64, 67, 0.3), 0px 1px 3px 1px rgba(60, 64, 67, 0.15);\n",
              "      fill: #174EA6;\n",
              "    }\n",
              "\n",
              "    .colab-df-buttons div {\n",
              "      margin-bottom: 4px;\n",
              "    }\n",
              "\n",
              "    [theme=dark] .colab-df-convert {\n",
              "      background-color: #3B4455;\n",
              "      fill: #D2E3FC;\n",
              "    }\n",
              "\n",
              "    [theme=dark] .colab-df-convert:hover {\n",
              "      background-color: #434B5C;\n",
              "      box-shadow: 0px 1px 3px 1px rgba(0, 0, 0, 0.15);\n",
              "      filter: drop-shadow(0px 1px 2px rgba(0, 0, 0, 0.3));\n",
              "      fill: #FFFFFF;\n",
              "    }\n",
              "  </style>\n",
              "\n",
              "    <script>\n",
              "      const buttonEl =\n",
              "        document.querySelector('#df-ceb47222-d4a7-423f-b43e-2b6bd878e51d button.colab-df-convert');\n",
              "      buttonEl.style.display =\n",
              "        google.colab.kernel.accessAllowed ? 'block' : 'none';\n",
              "\n",
              "      async function convertToInteractive(key) {\n",
              "        const element = document.querySelector('#df-ceb47222-d4a7-423f-b43e-2b6bd878e51d');\n",
              "        const dataTable =\n",
              "          await google.colab.kernel.invokeFunction('convertToInteractive',\n",
              "                                                    [key], {});\n",
              "        if (!dataTable) return;\n",
              "\n",
              "        const docLinkHtml = 'Like what you see? Visit the ' +\n",
              "          '<a target=\"_blank\" href=https://colab.research.google.com/notebooks/data_table.ipynb>data table notebook</a>'\n",
              "          + ' to learn more about interactive tables.';\n",
              "        element.innerHTML = '';\n",
              "        dataTable['output_type'] = 'display_data';\n",
              "        await google.colab.output.renderOutput(dataTable, element);\n",
              "        const docLink = document.createElement('div');\n",
              "        docLink.innerHTML = docLinkHtml;\n",
              "        element.appendChild(docLink);\n",
              "      }\n",
              "    </script>\n",
              "  </div>\n",
              "\n",
              "\n",
              "<div id=\"df-0c7b6efa-28f6-4f5c-b236-f39539b6aa14\">\n",
              "  <button class=\"colab-df-quickchart\" onclick=\"quickchart('df-0c7b6efa-28f6-4f5c-b236-f39539b6aa14')\"\n",
              "            title=\"Suggest charts.\"\n",
              "            style=\"display:none;\">\n",
              "\n",
              "<svg xmlns=\"http://www.w3.org/2000/svg\" height=\"24px\"viewBox=\"0 0 24 24\"\n",
              "     width=\"24px\">\n",
              "    <g>\n",
              "        <path d=\"M19 3H5c-1.1 0-2 .9-2 2v14c0 1.1.9 2 2 2h14c1.1 0 2-.9 2-2V5c0-1.1-.9-2-2-2zM9 17H7v-7h2v7zm4 0h-2V7h2v10zm4 0h-2v-4h2v4z\"/>\n",
              "    </g>\n",
              "</svg>\n",
              "  </button>\n",
              "\n",
              "<style>\n",
              "  .colab-df-quickchart {\n",
              "      --bg-color: #E8F0FE;\n",
              "      --fill-color: #1967D2;\n",
              "      --hover-bg-color: #E2EBFA;\n",
              "      --hover-fill-color: #174EA6;\n",
              "      --disabled-fill-color: #AAA;\n",
              "      --disabled-bg-color: #DDD;\n",
              "  }\n",
              "\n",
              "  [theme=dark] .colab-df-quickchart {\n",
              "      --bg-color: #3B4455;\n",
              "      --fill-color: #D2E3FC;\n",
              "      --hover-bg-color: #434B5C;\n",
              "      --hover-fill-color: #FFFFFF;\n",
              "      --disabled-bg-color: #3B4455;\n",
              "      --disabled-fill-color: #666;\n",
              "  }\n",
              "\n",
              "  .colab-df-quickchart {\n",
              "    background-color: var(--bg-color);\n",
              "    border: none;\n",
              "    border-radius: 50%;\n",
              "    cursor: pointer;\n",
              "    display: none;\n",
              "    fill: var(--fill-color);\n",
              "    height: 32px;\n",
              "    padding: 0;\n",
              "    width: 32px;\n",
              "  }\n",
              "\n",
              "  .colab-df-quickchart:hover {\n",
              "    background-color: var(--hover-bg-color);\n",
              "    box-shadow: 0 1px 2px rgba(60, 64, 67, 0.3), 0 1px 3px 1px rgba(60, 64, 67, 0.15);\n",
              "    fill: var(--button-hover-fill-color);\n",
              "  }\n",
              "\n",
              "  .colab-df-quickchart-complete:disabled,\n",
              "  .colab-df-quickchart-complete:disabled:hover {\n",
              "    background-color: var(--disabled-bg-color);\n",
              "    fill: var(--disabled-fill-color);\n",
              "    box-shadow: none;\n",
              "  }\n",
              "\n",
              "  .colab-df-spinner {\n",
              "    border: 2px solid var(--fill-color);\n",
              "    border-color: transparent;\n",
              "    border-bottom-color: var(--fill-color);\n",
              "    animation:\n",
              "      spin 1s steps(1) infinite;\n",
              "  }\n",
              "\n",
              "  @keyframes spin {\n",
              "    0% {\n",
              "      border-color: transparent;\n",
              "      border-bottom-color: var(--fill-color);\n",
              "      border-left-color: var(--fill-color);\n",
              "    }\n",
              "    20% {\n",
              "      border-color: transparent;\n",
              "      border-left-color: var(--fill-color);\n",
              "      border-top-color: var(--fill-color);\n",
              "    }\n",
              "    30% {\n",
              "      border-color: transparent;\n",
              "      border-left-color: var(--fill-color);\n",
              "      border-top-color: var(--fill-color);\n",
              "      border-right-color: var(--fill-color);\n",
              "    }\n",
              "    40% {\n",
              "      border-color: transparent;\n",
              "      border-right-color: var(--fill-color);\n",
              "      border-top-color: var(--fill-color);\n",
              "    }\n",
              "    60% {\n",
              "      border-color: transparent;\n",
              "      border-right-color: var(--fill-color);\n",
              "    }\n",
              "    80% {\n",
              "      border-color: transparent;\n",
              "      border-right-color: var(--fill-color);\n",
              "      border-bottom-color: var(--fill-color);\n",
              "    }\n",
              "    90% {\n",
              "      border-color: transparent;\n",
              "      border-bottom-color: var(--fill-color);\n",
              "    }\n",
              "  }\n",
              "</style>\n",
              "\n",
              "  <script>\n",
              "    async function quickchart(key) {\n",
              "      const quickchartButtonEl =\n",
              "        document.querySelector('#' + key + ' button');\n",
              "      quickchartButtonEl.disabled = true;  // To prevent multiple clicks.\n",
              "      quickchartButtonEl.classList.add('colab-df-spinner');\n",
              "      try {\n",
              "        const charts = await google.colab.kernel.invokeFunction(\n",
              "            'suggestCharts', [key], {});\n",
              "      } catch (error) {\n",
              "        console.error('Error during call to suggestCharts:', error);\n",
              "      }\n",
              "      quickchartButtonEl.classList.remove('colab-df-spinner');\n",
              "      quickchartButtonEl.classList.add('colab-df-quickchart-complete');\n",
              "    }\n",
              "    (() => {\n",
              "      let quickchartButtonEl =\n",
              "        document.querySelector('#df-0c7b6efa-28f6-4f5c-b236-f39539b6aa14 button');\n",
              "      quickchartButtonEl.style.display =\n",
              "        google.colab.kernel.accessAllowed ? 'block' : 'none';\n",
              "    })();\n",
              "  </script>\n",
              "</div>\n",
              "    </div>\n",
              "  </div>\n"
            ]
          },
          "metadata": {},
          "execution_count": 3
        }
      ]
    },
    {
      "cell_type": "markdown",
      "source": [
        "**Define Predictor/Independent Variables**\n",
        "\n",
        "กำหนดตัวแปร"
      ],
      "metadata": {
        "id": "RYvFutitkNTW"
      }
    },
    {
      "cell_type": "code",
      "source": [
        "# คำนวณค่าเฉลี่ยเคลื่อนที่ในระยะ 10 วัน (10-day moving average) ของราคาปิด (Close) และเก็บผลลัพธ์ในคอลัมน์ 'S_10'.\n",
        "df['S_10'] = df['Close'].rolling(window=10).mean()\n",
        "\n",
        "# คำนวณความสัมพันธ์ (correlation) ระหว่างราคาปิด (Close) และค่าเฉลี่ยเคลื่อนที่ในระยะ 10 วัน ('S_10') และเก็บผลลัพธ์ในคอลัมน์ 'Corr'.\n",
        "df['Corr'] = df['Close'].rolling(window=10).corr(df['S_10'])\n",
        "\n",
        "# คำนวณค่าดัชนีความเเข็งแข็งสัมพันธ์ (Relative Strength Index, RSI) ในระยะ 10 วัน โดยใช้ pandas_ta และเก็บผลลัพธ์ในคอลัมน์ 'RSI'.\n",
        "df['RSI'] = df.ta.rsi(length=10)\n",
        "\n",
        "# คำนวณความแตกต่างระหว่างราคาเปิด (Open) และราคาปิด (Close) แล้วเก็บผลลัพธ์ในคอลัมน์ 'Open-Close'.\n",
        "df['Open-Close'] = df['Open'] - df['Close'].shift(1)\n",
        "\n",
        "# คำนวณความแตกต่างระหว่างราคาปิด (Close) ของวันก่อนหน้าและราคาเปิด (Open) ของวันปัจจุบัน แล้วเก็บผลลัพธ์ในคอลัมน์ 'Open-Open'.\n",
        "df['Open-Open'] = df['Close'].shift(1) - df['Open']\n",
        "\n",
        "# ลบแถวที่มีค่า NaN (ข้อมูลที่หายไป) ออกจาก DataFrame.\n",
        "df = df.dropna()\n",
        "\n",
        "# เลือกคุณสมบัติ (features) ที่จะนำไปใช้ในการวิเคราะห์หรือโมเดลเช่น 'S_10', 'Corr', 'RSI', 'Open-Close', 'Open-Open', 'Open', 'High', 'Low', และ 'Close' และเก็บในตัวแปร X.\n",
        "X = df[['S_10', 'Corr', 'RSI', 'Open-Close', 'Open-Open', 'Open', 'High', 'Low', 'Close']]\n",
        "\n",
        "# แสดง DataFrame\n",
        "print(X.head())\n"
      ],
      "metadata": {
        "colab": {
          "base_uri": "https://localhost:8080/"
        },
        "id": "sKEC32Ktjz6r",
        "outputId": "cba818ec-e827-4f2b-cd57-bbcc3316daf3"
      },
      "execution_count": null,
      "outputs": [
        {
          "output_type": "stream",
          "name": "stdout",
          "text": [
            "                   S_10      Corr        RSI  Open-Close  Open-Open  \\\n",
            "Date                                                                  \n",
            "2010-01-29  5071.485010  0.924392  17.081988   -1.100098   1.100098   \n",
            "2010-02-01  5036.235010  0.875205  21.252887    0.000000   0.000000   \n",
            "2010-02-02  4991.760010  0.865243  17.414818    8.149902  -8.149902   \n",
            "2010-02-03  4962.380029  0.749618  36.145994    0.899902  -0.899902   \n",
            "2010-02-04  4924.745020  0.721059  29.768392   -0.550293   0.550293   \n",
            "\n",
            "                   Open         High          Low        Close  \n",
            "Date                                                            \n",
            "2010-01-29  4866.149902  4893.700195  4766.000000  4882.049805  \n",
            "2010-02-01  4882.049805  4918.799805  4827.149902  4899.700195  \n",
            "2010-02-02  4907.850098  4951.149902  4814.100098  4830.100098  \n",
            "2010-02-03  4831.000000  4949.149902  4831.000000  4931.850098  \n",
            "2010-02-04  4931.299805  4931.299805  4832.350098  4845.350098  \n"
          ]
        }
      ]
    },
    {
      "cell_type": "markdown",
      "source": [
        "**Define Target/Dependent Variable**\n",
        "\n",
        "กำหนดเป้าหมาย/ตัวแปรตาม"
      ],
      "metadata": {
        "id": "CvxwsAGMk8tY"
      }
    },
    {
      "cell_type": "code",
      "source": [
        "y = np.where(df['Close'].shift(-1) > df['Close'],1,-1)"
      ],
      "metadata": {
        "id": "uWr3ghfvk57Y"
      },
      "execution_count": null,
      "outputs": []
    },
    {
      "cell_type": "markdown",
      "source": [
        "**Split The Dataset**\n",
        "\n",
        "แยกชุดข้อมูล : แบ่งชุดข้อมูลออกเป็นชุดข้อมูลการฝึกอบรมและชุดข้อมูลทดสอบ เราจะใช้ข้อมูลของเรา 70% ในการฝึกอบรม และอีก 20% ที่เหลือเพื่อทดสอบ ในการดำเนินการนี้ เราจะสร้างตัวแปรแยกซึ่งจะแบ่งกรอบข้อมูลเป็นอัตราส่วน 70:30 'X train' และ 'Y train' เป็นชุดข้อมูลรถไฟ 'X test' และ 'Y test' เป็นชุดข้อมูลทดสอบ"
      ],
      "metadata": {
        "id": "w-SrqaFAlEP4"
      }
    },
    {
      "cell_type": "code",
      "source": [
        "split = int(0.7*len(df))\n",
        "X_train, X_test, y_train, y_test = X[:split], X[split:], y[:split], y[split:]"
      ],
      "metadata": {
        "id": "uKRcZvnGk-hl"
      },
      "execution_count": null,
      "outputs": []
    },
    {
      "cell_type": "markdown",
      "source": [
        "\n",
        "**Instantiate The Logistic Regression in Python**"
      ],
      "metadata": {
        "id": "2Ifvx8d4lMWv"
      }
    },
    {
      "cell_type": "code",
      "source": [
        "from sklearn.preprocessing import LabelEncoder\n",
        "\n",
        "label_encoder = LabelEncoder()\n",
        "y_train_encoded = label_encoder.fit_transform(y_train)"
      ],
      "metadata": {
        "id": "Y6WlWZSglh9F"
      },
      "execution_count": null,
      "outputs": []
    },
    {
      "cell_type": "code",
      "source": [
        "from sklearn.tree import DecisionTreeClassifier\n",
        "\n",
        "# Instantiate the model\n",
        "model = DecisionTreeClassifier()\n",
        "\n",
        "# Fit the model to the training data\n",
        "model.fit(X_train, y_train)\n",
        "\n",
        "# Predict using the trained model\n",
        "y_pred = model.predict(X_test)\n"
      ],
      "metadata": {
        "id": "bAo6_ZsOlwek"
      },
      "execution_count": null,
      "outputs": []
    },
    {
      "cell_type": "code",
      "source": [
        "# Import library\n",
        "import pandas as pd\n",
        "\n",
        "# สร้าง DataFrame เพื่อเก็บค่า Feature Importance ของโมเดล\n",
        "feature_importance = pd.DataFrame({'Feature': X.columns, 'Importance': model.feature_importances_})\n",
        "\n",
        "# แสดงค่า Feature Importance ที่ได้จากโมเดล\n",
        "print(feature_importance)\n"
      ],
      "metadata": {
        "id": "CFKegpIGtqfs",
        "outputId": "6a43fa00-a21d-4523-d970-a841310a643d",
        "colab": {
          "base_uri": "https://localhost:8080/"
        }
      },
      "execution_count": null,
      "outputs": [
        {
          "output_type": "stream",
          "name": "stdout",
          "text": [
            "      Feature  Importance\n",
            "0        S_10    0.103359\n",
            "1        Corr    0.179532\n",
            "2         RSI    0.179142\n",
            "3  Open-Close    0.115726\n",
            "4   Open-Open    0.104286\n",
            "5        Open    0.090835\n",
            "6        High    0.071795\n",
            "7         Low    0.069030\n",
            "8       Close    0.086294\n"
          ]
        }
      ]
    },
    {
      "cell_type": "markdown",
      "source": [
        "**Predict Class Labels**"
      ],
      "metadata": {
        "id": "gZk-Db5PtgAl"
      }
    },
    {
      "cell_type": "code",
      "source": [
        "probability = model.predict_proba(X_test)\n",
        "print(probability)\n",
        "\n",
        "predicted = model.predict(X_test)"
      ],
      "metadata": {
        "colab": {
          "base_uri": "https://localhost:8080/"
        },
        "id": "qhSf2ntIu9_0",
        "outputId": "ee2f5fb5-d468-46da-a926-b830758cebe6"
      },
      "execution_count": null,
      "outputs": [
        {
          "output_type": "stream",
          "name": "stdout",
          "text": [
            "[[0. 1.]\n",
            " [0. 1.]\n",
            " [0. 1.]\n",
            " ...\n",
            " [1. 0.]\n",
            " [1. 0.]\n",
            " [1. 0.]]\n"
          ]
        }
      ]
    },
    {
      "cell_type": "markdown",
      "source": [
        "**Evaluate The Model**\n",
        "\n",
        "Confusion Matrix"
      ],
      "metadata": {
        "id": "ibZlsOXWtkft"
      }
    },
    {
      "cell_type": "code",
      "source": [
        "print(metrics.confusion_matrix(y_test, predicted))"
      ],
      "metadata": {
        "colab": {
          "base_uri": "https://localhost:8080/"
        },
        "id": "7AUrSxUrvC-s",
        "outputId": "f75154c8-eb49-429f-f921-48c9417d7403"
      },
      "execution_count": null,
      "outputs": [
        {
          "output_type": "stream",
          "name": "stdout",
          "text": [
            "[[257 177]\n",
            " [291 227]]\n"
          ]
        }
      ]
    },
    {
      "cell_type": "markdown",
      "source": [
        "**Classification Report**"
      ],
      "metadata": {
        "id": "JF2W4cddtxKw"
      }
    },
    {
      "cell_type": "code",
      "source": [
        "print(metrics.classification_report(y_test, predicted))"
      ],
      "metadata": {
        "colab": {
          "base_uri": "https://localhost:8080/"
        },
        "id": "2Amlbf8BvIe5",
        "outputId": "db3aac00-5a20-4d2d-9f6d-28cd084c941d"
      },
      "execution_count": null,
      "outputs": [
        {
          "output_type": "stream",
          "name": "stdout",
          "text": [
            "              precision    recall  f1-score   support\n",
            "\n",
            "          -1       0.47      0.59      0.52       434\n",
            "           1       0.56      0.44      0.49       518\n",
            "\n",
            "    accuracy                           0.51       952\n",
            "   macro avg       0.52      0.52      0.51       952\n",
            "weighted avg       0.52      0.51      0.51       952\n",
            "\n"
          ]
        }
      ]
    },
    {
      "cell_type": "markdown",
      "source": [
        "**Model Accuracy**"
      ],
      "metadata": {
        "id": "VcNDCGuxvM0T"
      }
    },
    {
      "cell_type": "code",
      "source": [
        "print(model.score(X_test,y_test))"
      ],
      "metadata": {
        "colab": {
          "base_uri": "https://localhost:8080/"
        },
        "id": "xjKm5IetvOSt",
        "outputId": "208f11c1-e2f3-476f-99f2-c22f7322b353"
      },
      "execution_count": null,
      "outputs": [
        {
          "output_type": "stream",
          "name": "stdout",
          "text": [
            "0.5084033613445378\n"
          ]
        }
      ]
    },
    {
      "cell_type": "markdown",
      "source": [
        "**Cross-Validation**"
      ],
      "metadata": {
        "id": "8EL09d5DvTYe"
      }
    },
    {
      "cell_type": "code",
      "source": [
        "cross_val = cross_val_score(LogisticRegression(), X, y, scoring='accuracy', cv=10)\n",
        "print(cross_val)\n",
        "print(cross_val.mean())"
      ],
      "metadata": {
        "colab": {
          "base_uri": "https://localhost:8080/"
        },
        "id": "RatqxsZRvU1d",
        "outputId": "e87d9fbd-b176-421e-f201-ae68a47b93f8"
      },
      "execution_count": null,
      "outputs": [
        {
          "output_type": "stream",
          "name": "stdout",
          "text": [
            "[0.51886792 0.52996845 0.52365931 0.53943218 0.55205047 0.51735016\n",
            " 0.5362776  0.47949527 0.52365931 0.51419558]\n",
            "0.5234956252604012\n"
          ]
        }
      ]
    },
    {
      "cell_type": "markdown",
      "source": [
        "**Create Trading Strategy Using The Model**"
      ],
      "metadata": {
        "id": "2FoEALryvcfC"
      }
    },
    {
      "cell_type": "code",
      "source": [
        "df['Predicted_Signal'] = model.predict(X)\n",
        "df['Nifty_returns'] = np.log(df['Close']/df['Close'].shift(1))\n",
        "Cumulative_Nifty_returns = np.cumsum(df[split:]['Nifty_returns'])\n",
        "\n",
        "df['Startegy_returns'] = df['Nifty_returns']* df['Predicted_Signal'].shift(1)\n",
        "Cumulative_Strategy_returns = np.cumsum(df[split:]['Startegy_returns'])\n",
        "\n",
        "plt.figure(figsize=(10,5))\n",
        "plt.plot(Cumulative_Nifty_returns, color='r',label = 'Nifty Returns')\n",
        "plt.plot(Cumulative_Strategy_returns, color='g', label = 'Strategy Returns')\n",
        "plt.legend()\n",
        "plt.show()"
      ],
      "metadata": {
        "colab": {
          "base_uri": "https://localhost:8080/",
          "height": 760
        },
        "id": "KlqTWowfvdh7",
        "outputId": "10a1ee7c-7685-41f5-b062-13d33b7d28da"
      },
      "execution_count": null,
      "outputs": [
        {
          "output_type": "stream",
          "name": "stderr",
          "text": [
            "<ipython-input-15-acac54204ee1>:1: SettingWithCopyWarning: \n",
            "A value is trying to be set on a copy of a slice from a DataFrame.\n",
            "Try using .loc[row_indexer,col_indexer] = value instead\n",
            "\n",
            "See the caveats in the documentation: https://pandas.pydata.org/pandas-docs/stable/user_guide/indexing.html#returning-a-view-versus-a-copy\n",
            "  df['Predicted_Signal'] = model.predict(X)\n",
            "<ipython-input-15-acac54204ee1>:2: SettingWithCopyWarning: \n",
            "A value is trying to be set on a copy of a slice from a DataFrame.\n",
            "Try using .loc[row_indexer,col_indexer] = value instead\n",
            "\n",
            "See the caveats in the documentation: https://pandas.pydata.org/pandas-docs/stable/user_guide/indexing.html#returning-a-view-versus-a-copy\n",
            "  df['Nifty_returns'] = np.log(df['Close']/df['Close'].shift(1))\n",
            "<ipython-input-15-acac54204ee1>:5: SettingWithCopyWarning: \n",
            "A value is trying to be set on a copy of a slice from a DataFrame.\n",
            "Try using .loc[row_indexer,col_indexer] = value instead\n",
            "\n",
            "See the caveats in the documentation: https://pandas.pydata.org/pandas-docs/stable/user_guide/indexing.html#returning-a-view-versus-a-copy\n",
            "  df['Startegy_returns'] = df['Nifty_returns']* df['Predicted_Signal'].shift(1)\n"
          ]
        },
        {
          "output_type": "display_data",
          "data": {
            "text/plain": [
              "<Figure size 1000x500 with 1 Axes>"
            ],
            "image/png": "[encoded data removed]"
          },
          "metadata": {}
        }
      ]
    }
  ]
}